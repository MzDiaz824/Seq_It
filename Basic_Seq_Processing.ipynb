{
 "metadata": {
  "language_info": {
   "codemirror_mode": {
    "name": "ipython",
    "version": 3
   },
   "file_extension": ".py",
   "mimetype": "text/x-python",
   "name": "python",
   "nbconvert_exporter": "python",
   "pygments_lexer": "ipython3",
   "version": "3.7.4-final"
  },
  "orig_nbformat": 2,
  "kernelspec": {
   "name": "python3",
   "display_name": "Python 3",
   "language": "python"
  }
 },
 "nbformat": 4,
 "nbformat_minor": 2,
 "cells": [
  {
   "source": [
    "# Basic Sequence Processing"
   ],
   "cell_type": "markdown",
   "metadata": {}
  },
  {
   "cell_type": "code",
   "execution_count": 6,
   "metadata": {},
   "outputs": [],
   "source": [
    "from Bio import Entrez, Seq, SeqIO\n"
   ]
  },
  {
   "cell_type": "code",
   "execution_count": 7,
   "metadata": {},
   "outputs": [],
   "source": [
    "Entrez.email = 'mariadiazcsga@gmail.com'\n",
    "handle = Entrez.efetch(db='nucleotide', id = ['NM_002299'], rettype='fasta') #Lactase. gene\n",
    "seq = SeqIO.read(handle, 'fasta')"
   ]
  },
  {
   "cell_type": "code",
   "execution_count": 9,
   "metadata": {},
   "outputs": [
    {
     "output_type": "execute_result",
     "data": {
      "text/plain": [
       "Bio.SeqRecord.SeqRecord"
      ]
     },
     "metadata": {},
     "execution_count": 9
    }
   ],
   "source": [
    "type(seq)"
   ]
  },
  {
   "cell_type": "code",
   "execution_count": 12,
   "metadata": {},
   "outputs": [
    {
     "output_type": "execute_result",
     "data": {
      "text/plain": [
       "'NM_002299.4 Homo sapiens lactase (LCT), mRNA'"
      ]
     },
     "metadata": {},
     "execution_count": 12
    }
   ],
   "source": [
    "seq.description #check description from fasta Seq Record"
   ]
  },
  {
   "cell_type": "code",
   "execution_count": 15,
   "metadata": {},
   "outputs": [
    {
     "output_type": "execute_result",
     "data": {
      "text/plain": [
       "'NM_002299.4'"
      ]
     },
     "metadata": {},
     "execution_count": 15
    }
   ],
   "source": [
    "seq.id"
   ]
  },
  {
   "cell_type": "code",
   "execution_count": 16,
   "metadata": {},
   "outputs": [
    {
     "output_type": "execute_result",
     "data": {
      "text/plain": [
       "Seq('AACAGTTCCTAGAAAATGGAGCTGTCTTGGCATGTAGTCTTTATTGCCCTGCTA...GTC')"
      ]
     },
     "metadata": {},
     "execution_count": 16
    }
   ],
   "source": [
    "seq.seq"
   ]
  },
  {
   "source": [
    "Now that we've confirmed we have the correct file we can perform basic manipulations. Calling the SeqRecord object provides poorly formatted data."
   ],
   "cell_type": "markdown",
   "metadata": {}
  },
  {
   "cell_type": "code",
   "execution_count": 17,
   "metadata": {},
   "outputs": [
    {
     "output_type": "execute_result",
     "data": {
      "text/plain": [
       "SeqRecord(seq=Seq('AACAGTTCCTAGAAAATGGAGCTGTCTTGGCATGTAGTCTTTATTGCCCTGCTA...GTC'), id='NM_002299.4', name='NM_002299.4', description='NM_002299.4 Homo sapiens lactase (LCT), mRNA', dbxrefs=[])"
      ]
     },
     "metadata": {},
     "execution_count": 17
    }
   ],
   "source": [
    "seq"
   ]
  },
  {
   "source": [
    "We can adjust the format in which the fasta data is reported out to improve readability."
   ],
   "cell_type": "markdown",
   "metadata": {}
  },
  {
   "cell_type": "code",
   "execution_count": 20,
   "metadata": {},
   "outputs": [],
   "source": [
    "prec_hdl = open('example.fasta', 'w')\n",
    "SeqIO.write([seq], prec_hdl, 'fasta')\n",
    "prec_hdl.close()"
   ]
  },
  {
   "cell_type": "code",
   "execution_count": 22,
   "metadata": {},
   "outputs": [
    {
     "output_type": "stream",
     "name": "stdout",
     "text": [
      "<class 'Bio.SeqRecord.SeqRecord'>\nNM_002299.4 Homo sapiens lactase (LCT), mRNA\nAACAGTTCCT\n"
     ]
    }
   ],
   "source": [
    "recs = SeqIO.parse('example.fasta', 'fasta')\n",
    "for rec in recs:\n",
    "    print(type(rec))\n",
    "    seq = rec.seq\n",
    "    print(rec.description)\n",
    "    print(seq[:10]) #first 10 bases of sequence\n"
   ]
  },
  {
   "cell_type": "code",
   "execution_count": 23,
   "metadata": {},
   "outputs": [
    {
     "output_type": "execute_result",
     "data": {
      "text/plain": [
       "Seq('AACAGTTCCTAGAAAATGGAGCTGTCTTGGCATGTAGTCTTTATTGCCCTGCTA...GTC')"
      ]
     },
     "metadata": {},
     "execution_count": 23
    }
   ],
   "source": [
    "#extract sequence from record and convert to sequence object\n",
    "seq = Seq.Seq(str(seq))\n",
    "seq"
   ]
  },
  {
   "cell_type": "code",
   "execution_count": 24,
   "metadata": {},
   "outputs": [
    {
     "output_type": "execute_result",
     "data": {
      "text/plain": [
       "Bio.Seq.Seq"
      ]
     },
     "metadata": {},
     "execution_count": 24
    }
   ],
   "source": [
    "type(seq)"
   ]
  },
  {
   "cell_type": "code",
   "execution_count": 25,
   "metadata": {},
   "outputs": [
    {
     "output_type": "execute_result",
     "data": {
      "text/plain": [
       "Seq('AACAGUUCCUAGAAAAUGGAGCUGUCUUGGCAUGUAGUCUUUAUUGCCCUGCUA...GUC')"
      ]
     },
     "metadata": {},
     "execution_count": 25
    }
   ],
   "source": [
    "RNA = seq.transcribe() #create RNA product\n",
    "RNA"
   ]
  },
  {
   "cell_type": "code",
   "execution_count": 26,
   "metadata": {},
   "outputs": [
    {
     "output_type": "stream",
     "name": "stdout",
     "text": [
      "AAUAAAAACAGCAGACUGUC\n"
     ]
    }
   ],
   "source": [
    "print(RNA[-20:]) #print last 20 bases of RNA"
   ]
  },
  {
   "cell_type": "code",
   "execution_count": 30,
   "metadata": {},
   "outputs": [
    {
     "output_type": "execute_result",
     "data": {
      "text/plain": [
       "Seq('NSS*KMELSWHVVFIALLSFSCWGSDWESDRNFISTAGPLTNDLLHNLSGLLGD...QTV')"
      ]
     },
     "metadata": {},
     "execution_count": 30
    }
   ],
   "source": [
    "#create protein product of RNA\n",
    "prot = RNA.translate()\n",
    "prot"
   ]
  },
  {
   "cell_type": "code",
   "execution_count": null,
   "metadata": {},
   "outputs": [],
   "source": []
  }
 ]
}