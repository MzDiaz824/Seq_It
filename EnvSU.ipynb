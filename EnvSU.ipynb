{
 "metadata": {
  "language_info": {
   "codemirror_mode": {
    "name": "ipython",
    "version": 3
   },
   "file_extension": ".py",
   "mimetype": "text/x-python",
   "name": "python",
   "nbconvert_exporter": "python",
   "pygments_lexer": "ipython3",
   "version": "3.7.4-final"
  },
  "orig_nbformat": 2,
  "kernelspec": {
   "name": "python3",
   "display_name": "Python 3",
   "language": "python"
  }
 },
 "nbformat": 4,
 "nbformat_minor": 2,
 "cells": [
  {
   "cell_type": "code",
   "execution_count": 2,
   "metadata": {},
   "outputs": [],
   "source": [
    "#use Python -v 3\n",
    "import os"
   ]
  },
  {
   "cell_type": "code",
   "execution_count": 3,
   "metadata": {},
   "outputs": [],
   "source": [
    "from IPython.display import Image"
   ]
  },
  {
   "cell_type": "code",
   "execution_count": 4,
   "metadata": {},
   "outputs": [],
   "source": [
    "import rpy2.robjects as robjects\n",
    "from rpy2.robjects import pandas2ri\n",
    "from rpy2.robjects import default_converter\n",
    "from rpy2.robjects.conversion import localconverter"
   ]
  },
  {
   "cell_type": "code",
   "execution_count": 5,
   "metadata": {},
   "outputs": [],
   "source": [
    "import pandas as pd"
   ]
  },
  {
   "cell_type": "code",
   "execution_count": 6,
   "metadata": {},
   "outputs": [],
   "source": [
    "#read data from file\n",
    "read_delim = robjects.r('read.delim')\n",
    "seq_data = read_delim('sequence.index', header=True, stringsAsFactors=False)\n",
    "#equivalent in R:\n",
    "#seq.data <- read.delim('sequence.index', header = True, stringsAsFactors = False)"
   ]
  },
  {
   "cell_type": "code",
   "execution_count": 7,
   "metadata": {},
   "outputs": [
    {
     "output_type": "execute_result",
     "data": {
      "text/plain": [
       "R object with classes: ('data.frame',) mapped to:\n",
       "[StrSexpVe..., StrSexpVe..., StrSexpVe..., StrSexpVe..., ..., StrSexpVe..., IntSexpVe..., FloatSexp..., StrSexpVe...]\n",
       "  FASTQ_FILE: <class 'rpy2.robjects.vectors.StrVector'>\n",
       "  R object with classes: ('character',) mapped to:\n",
       "['data/NA19238/..., 'data/NA19238/..., 'data/NA19240/...]\n",
       "  MD5: <class 'rpy2.robjects.vectors.StrVector'>\n",
       "  R object with classes: ('character',) mapped to:\n",
       "['3b092ef1661e2..., 'fcb89b0a75577..., 'dcd4ff7db25a7...]\n",
       "  RUN_ID: <class 'rpy2.robjects.vectors.StrVector'>\n",
       "  R object with classes: ('character',) mapped to:\n",
       "['ERR000018', 'ERR000019', 'ERR000020']\n",
       "  STUDY_ID: <class 'rpy2.robjects.vectors.StrVector'>\n",
       "  R object with classes: ('character',) mapped to:\n",
       "['SRP000032', 'SRP000032', 'SRP000032']\n",
       "...\n",
       "  CENTER_NAME: <class 'rpy2.robjects.vectors.StrVector'>\n",
       "  R object with classes: ('character',) mapped to:\n",
       "['', '', '']\n",
       "  SUBMISSION_ID: <class 'rpy2.robjects.vectors.IntVector'>\n",
       "  R object with classes: ('RTYPES.INTSXP',) mapped to:\n",
       "[9,280,498, 9,571,982, 149,044]\n",
       "  SUBMISSION_DATE: <class 'rpy2.robjects.vectors.FloatVector'>\n",
       "  R object with classes: ('numeric',) mapped to:\n",
       "[334097928.000000, 344591352.000000, 5365584.000000]\n",
       "  SAMPLE_ID: <class 'rpy2.robjects.vectors.StrVector'>\n",
       "  R object with classes: ('character',) mapped to:\n",
       "['high coverage', 'high coverage', 'high coverage']"
      ],
      "text/html": "\n        <span>R/rpy2 DataFrame (3 x 26)</span>\n        <table>\n          <thead>\n            <tr>\n              \n              <th>FASTQ_FILE</th>\n              \n              <th>MD5</th>\n              \n              <th>RUN_ID</th>\n              \n              <th>...</th>\n              \n              <th>READ_COUNT</th>\n              \n              <th>BASE_COUNT</th>\n              \n              <th>ANALYSIS_GROUP</th>\n              \n            </tr>\n          </thead>\n          <tbody>\n          \n          <tr>\n            \n            <td>\n              'data/NA19238/...\n            </td>\n            \n            <td>\n              '3b092ef1661e2...\n            </td>\n            \n            <td>\n              'ERR000018'\n            </td>\n            \n            <td>\n              ...\n            </td>\n            \n            <td>\n              9,280,498\n            </td>\n            \n            <td>\n              334097928.000000\n            </td>\n            \n            <td>\n              'high coverage'\n            </td>\n            \n          </tr>\n          \n          <tr>\n            \n            <td>\n              'data/NA19238/...\n            </td>\n            \n            <td>\n              'fcb89b0a75577...\n            </td>\n            \n            <td>\n              'ERR000019'\n            </td>\n            \n            <td>\n              \n            </td>\n            \n            <td>\n              9,571,982\n            </td>\n            \n            <td>\n              344591352.000000\n            </td>\n            \n            <td>\n              'high coverage'\n            </td>\n            \n          </tr>\n          \n          <tr>\n            \n            <td>\n              'data/NA19240/...\n            </td>\n            \n            <td>\n              'dcd4ff7db25a7...\n            </td>\n            \n            <td>\n              'ERR000020'\n            </td>\n            \n            <td>\n              \n            </td>\n            \n            <td>\n              149,044\n            </td>\n            \n            <td>\n              5365584.000000\n            </td>\n            \n            <td>\n              'high coverage'\n            </td>\n            \n          </tr>\n          \n          </tbody>\n        </table>\n    "
     },
     "metadata": {},
     "execution_count": 7
    }
   ],
   "source": [
    "seq_data.head(3)"
   ]
  },
  {
   "cell_type": "code",
   "execution_count": 8,
   "metadata": {},
   "outputs": [],
   "source": [
    "#inspect df\n",
    "colNums = seq_data.ncol"
   ]
  },
  {
   "cell_type": "code",
   "execution_count": 9,
   "metadata": {},
   "outputs": [],
   "source": [
    "rowNums = seq_data.nrow"
   ]
  },
  {
   "cell_type": "code",
   "execution_count": 10,
   "metadata": {},
   "outputs": [],
   "source": [
    "Names = seq_data.colnames"
   ]
  },
  {
   "cell_type": "code",
   "execution_count": 11,
   "metadata": {},
   "outputs": [
    {
     "output_type": "stream",
     "name": "stdout",
     "text": [
      "This is a dataframe with 26 columns and 1297 rows. \nThe column names are \n [1] \"FASTQ_FILE\"          \"MD5\"                 \"RUN_ID\"             \n [4] \"STUDY_ID\"            \"STUDY_NAME\"          \"CENTER_NAME\"        \n [7] \"SUBMISSION_ID\"       \"SUBMISSION_DATE\"     \"SAMPLE_ID\"          \n[10] \"SAMPLE_NAME\"         \"POPULATION\"          \"EXPERIMENT_ID\"      \n[13] \"INSTRUMENT_PLATFORM\" \"INSTRUMENT_MODEL\"    \"LIBRARY_NAME\"       \n[16] \"RUN_NAME\"            \"RUN_BLOCK_NAME\"      \"INSERT_SIZE\"        \n[19] \"LIBRARY_LAYOUT\"      \"PAIRED_FASTQ\"        \"WITHDRAWN\"          \n[22] \"WITHDRAWN_DATE\"      \"COMMENT\"             \"READ_COUNT\"         \n[25] \"BASE_COUNT\"          \"ANALYSIS_GROUP\"     \n\n"
     ]
    }
   ],
   "source": [
    "print(\"This is a dataframe with \" + str(colNums) + \" columns and %d rows. \\nThe column names are \" % (rowNums))\n",
    "print(Names)\n",
    "#R equivalent to print col names, # of rows and # of cols\n",
    "#print(colnames(seq.data))\n",
    "#print(nrow(seq.data))\n",
    "#print(ncol(seq.data))"
   ]
  },
  {
   "cell_type": "code",
   "execution_count": 12,
   "metadata": {},
   "outputs": [
    {
     "output_type": "stream",
     "name": "stdout",
     "text": [
      "[1] 26\n\n"
     ]
    }
   ],
   "source": [
    "#mix r and python\n",
    "my_cols = robjects.r.ncol(seq_data)\n",
    "print(my_cols)\n",
    "#CAUTION: cols w/dots in their names will result in 26 as a vector [26]\n",
    "#use my_cols[0] instead"
   ]
  },
  {
   "cell_type": "code",
   "execution_count": 19,
   "metadata": {},
   "outputs": [
    {
     "output_type": "execute_result",
     "data": {
      "text/plain": [
       "rpy2.robjects.vectors.DataFrame"
      ]
     },
     "metadata": {},
     "execution_count": 19
    }
   ],
   "source": [
    "type(seq_data)"
   ]
  },
  {
   "cell_type": "code",
   "execution_count": 14,
   "metadata": {},
   "outputs": [
    {
     "output_type": "stream",
     "name": "stdout",
     "text": [
      "'data.frame':\t1297 obs. of  26 variables:\n",
      " $ FASTQ_FILE         : chr  \"data/NA19238/sequence_read/ERR000018.filt.fastq.gz\" \"data/NA19238/sequence_read/ERR000019.filt.fastq.gz\" \"data/NA19240/sequence_read/ERR000020.filt.fastq.gz\" \"data/NA19240/sequence_read/ERR000020_1.filt.fastq.gz\" ...\n",
      " $ MD5                : chr  \"3b092ef1661e2a8ff85050e01242707d\" \"fcb89b0a755773872f1b073d0a518e0a\" \"dcd4ff7db25a75e462beaa75eb167bea\" \"fb5d7eb5137aa173f9f9ec344bd7a8e7\" ...\n",
      " $ RUN_ID             : chr  \"ERR000018\" \"ERR000019\" \"ERR000020\" \"ERR000020\" ...\n",
      " $ STUDY_ID           : chr  \"SRP000032\" \"SRP000032\" \"SRP000032\" \"SRP000032\" ...\n",
      " $ STUDY_NAME         : chr  \"1000Genomes Project Pilot 2\" \"1000Genomes Project Pilot 2\" \"1000Genomes Project Pilot 2\" \"1000Genomes Project Pilot 2\" ...\n",
      " $ CENTER_NAME        : chr  \"BGI\" \"BGI\" \"BGI\" \"BGI\" ...\n",
      " $ SUBMISSION_ID      : chr  \"ERA000013\" \"ERA000013\" \"ERA000013\" \"ERA000013\" ...\n",
      " $ SUBMISSION_DATE    : chr  \"2008-08-14 00:00:00\" \"2008-08-14 00:00:00\" \"2008-08-14 00:00:00\" \"2008-08-14 00:00:00\" ...\n",
      " $ SAMPLE_ID          : chr  \"SRS000212\" \"SRS000212\" \"SRS000214\" \"SRS000214\" ...\n",
      " $ SAMPLE_NAME        : chr  \"NA19238\" \"NA19238\" \"NA19240\" \"NA19240\" ...\n",
      " $ POPULATION         : chr  \"YRI\" \"YRI\" \"YRI\" \"YRI\" ...\n",
      " $ EXPERIMENT_ID      : chr  \"ERX000014\" \"ERX000014\" \"ERX000016\" \"ERX000016\" ...\n",
      " $ INSTRUMENT_PLATFORM: chr  \"ILLUMINA\" \"ILLUMINA\" \"ILLUMINA\" \"ILLUMINA\" ...\n",
      " $ INSTRUMENT_MODEL   : chr  \"Illumina Genome Analyzer\" \"Illumina Genome Analyzer\" \"Illumina Genome Analyzer II\" \"Illumina Genome Analyzer II\" ...\n",
      " $ LIBRARY_NAME       : chr  \"HU1000RADCAASE\" \"HU1000RADCAASE\" \"QRAACDEAAPE\" \"QRAACDEAAPE\" ...\n",
      " $ RUN_NAME           : chr  \"BGI-FC307N0AAXX\" \"BGI-FC307AWAAXX\" \"BGI-FC206YCAAXX_3\" \"BGI-FC206YCAAXX_3\" ...\n",
      " $ RUN_BLOCK_NAME     : logi  NA NA NA NA NA NA ...\n",
      " $ INSERT_SIZE        : int  0 0 345 345 345 0 0 0 0 569 ...\n",
      " $ LIBRARY_LAYOUT     : chr  \"SINGLE\" \"SINGLE\" \"PAIRED\" \"PAIRED\" ...\n",
      " $ PAIRED_FASTQ       : chr  \"\" \"\" \"\" \"data/NA19240/sequence_read/ERR000020_2.filt.fastq.gz\" ...\n",
      " $ WITHDRAWN          : int  0 0 0 0 0 0 0 0 0 0 ...\n",
      " $ WITHDRAWN_DATE     : chr  \"\" \"\" \"\" \"\" ...\n",
      " $ COMMENT            : chr  \"\" \"\" \"\" \"\" ...\n",
      " $ READ_COUNT         : int  9280498 9571982 149044 2057690 2057690 9388168 7762958 9625450 8808642 15187 ...\n",
      " $ BASE_COUNT         : num  3.34e+08 3.45e+08 5.37e+06 7.41e+07 7.41e+07 ...\n",
      " $ ANALYSIS_GROUP     : chr  \"high coverage\" \"high coverage\" \"high coverage\" \"high coverage\" ...\n"
     ]
    },
    {
     "output_type": "execute_result",
     "data": {
      "text/plain": [
       "<rpy2.rinterface.NULLType object at 0x7f8f3c29a0a0> [RTYPES.NILSXP]"
      ]
     },
     "metadata": {},
     "execution_count": 14
    }
   ],
   "source": [
    "robjects.r.str(seq_data)"
   ]
  }
 ]
}